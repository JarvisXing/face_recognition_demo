{
 "cells": [
  {
   "cell_type": "markdown",
   "metadata": {},
   "source": [
    "## File structure\n",
    ">WORKSPACE_DIR(.)\n",
    ">>PRJ_NAME.ipynb  \n",
    ">>PRJ_NAME_get_data.ipynb  \n",
    ">>PRJ_NAME_train_model.ipynb   \n",
    ">>DATA_PATH(datasets)  \n",
    ">>>PRJ_NAME  \n",
    ">>>>TRAIN_DIR(train)  \n",
    ">>>>>CLASS_1_DIR  \n",
    ">>>>>CLASS_n_DIR  \n",
    "\n",
    ">>>>VALIDATION_DIR(validation)  \n",
    ">>>>>CLASS_1_DIR  \n",
    ">>>>>CLASS_n_DIR  \n",
    "\n",
    ">>>>TEST_DIR(test)\n",
    ">>>>>CLASS_1_DIR  \n",
    ">>>>>CLASS_n_DIR  \n",
    "\n",
    ">>MODEL_PATH(models)  \n",
    ">>>PRJ_NAME  \n",
    "\n",
    ">>Image_PATH(images)  \n",
    ">>>PRJ_NAME  \n",
    "\n",
    ">>LOG_PATH(logs)  \n",
    ">>>PRJ_NAME  \n"
   ]
  },
  {
   "cell_type": "code",
   "execution_count": 1,
   "metadata": {},
   "outputs": [],
   "source": [
    "import os\n",
    "import numpy as np\n",
    "rand_seed=99\n",
    "# to make this notebook's output stable across runs\n",
    "np.random.seed(rand_seed)\n",
    "\n",
    "PRJ_NAME = \"face_recognition\"\n",
    "\n",
    "WORKSPACE_DIR = \".\"\n",
    "#where to save dataset\n",
    "DATA_DIR = PRJ_NAME\n",
    "DATA_PATH = os.path.join( WORKSPACE_DIR,\"datasets\",DATA_DIR )\n",
    "\n",
    "#datasets inlcude train data,validation data,test data\n",
    "TRAIN_DIR = os.path.join( DATA_PATH, 'train' )\n",
    "VALIDATION_DIR = os.path.join( DATA_PATH, 'validation' )\n",
    "TEST_DIR = os.path.join( DATA_PATH, 'test' )\n",
    "\n",
    "#where to save models\n",
    "MODEL_DIR = PRJ_NAME\n",
    "MODEL_PATH = os.path.join( WORKSPACE_DIR,\"models\",MODEL_DIR )\n",
    "\n",
    "# where to save figures\n",
    "IMAGE_DIR = PRJ_NAME\n",
    "IMAGE_PATH = os.path.join( WORKSPACE_DIR,\"images\",IMAGE_DIR )\n",
    "\n",
    "#where to save logs\n",
    "LOG_DIR = PRJ_NAME\n",
    "LOG_PATH = os.path.join( WORKSPACE_DIR,\"logs\",LOG_DIR )"
   ]
  },
  {
   "cell_type": "code",
   "execution_count": 2,
   "metadata": {},
   "outputs": [
    {
     "name": "stderr",
     "output_type": "stream",
     "text": [
      "C:\\Users\\jarvis\\AppData\\Local\\conda\\conda\\envs\\tensorflow\\lib\\site-packages\\h5py\\__init__.py:36: FutureWarning: Conversion of the second argument of issubdtype from `float` to `np.floating` is deprecated. In future, it will be treated as `np.float64 == np.dtype(float).type`.\n",
      "  from ._conv import register_converters as _register_converters\n",
      "Using TensorFlow backend.\n"
     ]
    },
    {
     "name": "stdout",
     "output_type": "stream",
     "text": [
      "Found 776 images belonging to 2 classes.\n",
      "Found 786 images belonging to 2 classes.\n",
      "Found 392 images belonging to 2 classes.\n"
     ]
    }
   ],
   "source": [
    "import keras\n",
    "from keras.preprocessing.image import ImageDataGenerator\n",
    "from keras.preprocessing import image\n",
    "#preprocess data\n",
    "train_datagen = ImageDataGenerator(rescale=1./255)\n",
    "\n",
    "#to augument performence you can use more parameter to generate more data\n",
    "# train_datagen = ImageDataGenerator(rescale=1./255,\n",
    "#                                    rotation_range=40,\n",
    "#                                    width_shift_range=0.2,\n",
    "#                                    height_shift_range=0.2,\n",
    "#                                    shear_range=0.2,\n",
    "#                                    zoom_range=0.2,\n",
    "#                                    horizontal_flip=True)\n",
    "validation_datagen = ImageDataGenerator(rescale=1./255)\n",
    "test_datagen = ImageDataGenerator(rescale=1./255)\n",
    "#use generator with flow_from_directory\n",
    "train_generator = train_datagen.flow_from_directory(\n",
    "    TRAIN_DIR,\n",
    "    target_size=(100, 100),\n",
    "    batch_size=20,\n",
    "    class_mode='binary')\n",
    "validation_generator = validation_datagen.flow_from_directory(\n",
    "    VALIDATION_DIR,\n",
    "    target_size=(100, 100),\n",
    "    batch_size=20,\n",
    "    class_mode='binary')\n",
    "test_generator = test_datagen.flow_from_directory(\n",
    "    TEST_DIR,\n",
    "    target_size=(100, 100),\n",
    "    batch_size=20,\n",
    "    class_mode='binary')"
   ]
  },
  {
   "cell_type": "code",
   "execution_count": 3,
   "metadata": {},
   "outputs": [],
   "source": [
    "from keras.callbacks import ModelCheckpoint,CSVLogger,EarlyStopping\n",
    "#add some function as callbacks\n",
    "class LossHistory(keras.callbacks.Callback):\n",
    "    def on_train_begin(self, logs={}):\n",
    "        self.losses = []\n",
    "    def on_batch_end(self, batch, logs={}):\n",
    "        self.losses.append(logs.get('loss'))\n",
    "        self.losses.append(logs.get('val_acc'))\n",
    "\n",
    "call_history = LossHistory()\n",
    "        \n",
    "call_checkpointer = ModelCheckpoint(filepath=MODEL_PATH+\"/weights.hdf5\", verbose=1, save_best_only=True)\n",
    "\n",
    "call_log = CSVLogger(LOG_PATH+\"/log\", separator=',', append=False)\n",
    "\n",
    "call_stop = EarlyStopping(monitor='val_loss', patience=0, verbose=0, mode='auto')"
   ]
  },
  {
   "cell_type": "code",
   "execution_count": 4,
   "metadata": {},
   "outputs": [
    {
     "name": "stdout",
     "output_type": "stream",
     "text": [
      "Epoch 1/20\n",
      "100/100 [==============================] - 76s 758ms/step - loss: 0.0929 - acc: 0.9665 - val_loss: 0.0073 - val_acc: 0.9987\n",
      "\n",
      "Epoch 00001: val_loss improved from inf to 0.00732, saving model to .\\models\\face_recognition/weights.hdf5\n",
      "Epoch 2/20\n",
      "100/100 [==============================] - 66s 656ms/step - loss: 0.0075 - acc: 0.9975 - val_loss: 0.0078 - val_acc: 0.9962\n",
      "\n",
      "Epoch 00002: val_loss did not improve\n"
     ]
    }
   ],
   "source": [
    "from keras import layers,models,optimizers\n",
    "#make your own model use Sequential or Model\n",
    "model = models.Sequential()\n",
    "model.add(layers.Conv2D(32,(3,3),activation='relu',input_shape=(100,100,3)))\n",
    "model.add(layers.MaxPooling2D((2,2)))\n",
    "model.add(layers.Conv2D(64,(3,3),activation='relu'))\n",
    "model.add(layers.MaxPooling2D((2,2)))\n",
    "model.add(layers.Flatten())\n",
    "model.add(layers.Dropout(0.5))\n",
    "model.add(layers.Dense(128,activation='relu'))\n",
    "model.add(layers.Dense(1,activation='sigmoid'))\n",
    "\n",
    "#compile model\n",
    "model.compile(loss='binary_crossentropy',\n",
    "             optimizer=optimizers.RMSprop(lr=1e-4),\n",
    "             metrics=['acc'])\n",
    "#now train model\n",
    "history = model.fit_generator(train_generator,\n",
    "                              steps_per_epoch=100,\n",
    "                              epochs=20,\n",
    "                              validation_data=validation_generator,\n",
    "                              callbacks=[call_checkpointer,call_history,call_log,call_stop])"
   ]
  },
  {
   "cell_type": "code",
   "execution_count": 7,
   "metadata": {},
   "outputs": [
    {
     "name": "stdout",
     "output_type": "stream",
     "text": [
      "[0.013031911658215652, 0.9918699167608246]\n"
     ]
    }
   ],
   "source": [
    "rslt = model.evaluate_generator(test_generator,steps=50)\n",
    "print(rslt)"
   ]
  },
  {
   "cell_type": "code",
   "execution_count": 17,
   "metadata": {},
   "outputs": [
    {
     "data": {
      "text/plain": [
       "[<matplotlib.lines.Line2D at 0x1c2e4626160>]"
      ]
     },
     "execution_count": 17,
     "metadata": {},
     "output_type": "execute_result"
    },
    {
     "data": {
      "image/png": "[encoded data removed]",
      "text/plain": [
       "<Figure size 432x288 with 1 Axes>"
      ]
     },
     "metadata": {},
     "output_type": "display_data"
    }
   ],
   "source": [
    "%matplotlib inline\n",
    "import matplotlib.pyplot as plt\n",
    "import pandas as pd\n",
    "log=pd.read_csv(LOG_PATH+\"/log\")\n",
    "plt.plot(log['acc'],'*-')"
   ]
  }
 ],
 "metadata": {
  "kernelspec": {
   "display_name": "Python 3",
   "language": "python",
   "name": "python3"
  },
  "language_info": {
   "codemirror_mode": {
    "name": "ipython",
    "version": 3
   },
   "file_extension": ".py",
   "mimetype": "text/x-python",
   "name": "python",
   "nbconvert_exporter": "python",
   "pygments_lexer": "ipython3",
   "version": "3.6.4"
  }
 },
 "nbformat": 4,
 "nbformat_minor": 2
}
