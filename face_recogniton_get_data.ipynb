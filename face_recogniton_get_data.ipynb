{
 "cells": [
  {
   "cell_type": "markdown",
   "metadata": {},
   "source": [
    "## File structure\n",
    ">WORKSPACE_DIR(.)\n",
    ">>PRJ_NAME.ipynb  \n",
    ">>PRJ_NAME_get_data.ipynb  \n",
    ">>PRJ_NAME_train_model.ipynb   \n",
    ">>DATA_PATH(datasets)  \n",
    ">>>PRJ_NAME  \n",
    ">>>>TRAIN_DIR(train)  \n",
    ">>>>>CLASS_1_DIR  \n",
    ">>>>>CLASS_n_DIR  \n",
    "\n",
    ">>>>VALIDATION_DIR(validation)  \n",
    ">>>>>CLASS_1_DIR  \n",
    ">>>>>CLASS_n_DIR  \n",
    "\n",
    ">>>>TEST_DIR(test)\n",
    ">>>>>CLASS_1_DIR  \n",
    ">>>>>CLASS_n_DIR  \n",
    "\n",
    ">>MODEL_PATH(models)  \n",
    ">>>PRJ_NAME  \n",
    "\n",
    ">>Image_PATH(images)  \n",
    ">>>PRJ_NAME  \n",
    "\n",
    ">>LOG_PATH(logs)  \n",
    ">>>PRJ_NAME  \n"
   ]
  },
  {
   "cell_type": "code",
   "execution_count": 1,
   "metadata": {},
   "outputs": [],
   "source": [
    "import os\n",
    "import numpy as np\n",
    "rand_seed=99\n",
    "# to make this notebook's output stable across runs\n",
    "np.random.seed(rand_seed)\n",
    "\n",
    "PRJ_NAME = \"face_recognition\"\n",
    "\n",
    "WORKSPACE_DIR = \".\"\n",
    "#where to save dataset\n",
    "DATA_DIR = PRJ_NAME\n",
    "DATA_PATH = os.path.join( WORKSPACE_DIR,\"datasets\",DATA_DIR )\n",
    "\n",
    "#datasets inlcude train data,validation data,test data\n",
    "TRAIN_DIR = os.path.join( DATA_PATH, 'train' )\n",
    "VALIDATION_DIR = os.path.join( DATA_PATH, 'validation' )\n",
    "TEST_DIR = os.path.join( DATA_PATH, 'test' )\n",
    "\n",
    "#where to save models\n",
    "MODEL_DIR = PRJ_NAME\n",
    "MODEL_PATH = os.path.join( WORKSPACE_DIR,\"models\",MODEL_DIR )\n",
    "\n",
    "# where to save figures\n",
    "IMAGE_DIR = PRJ_NAME\n",
    "IMAGE_PATH = os.path.join( WORKSPACE_DIR,\"images\",IMAGE_DIR )\n",
    "\n",
    "#where to save logs\n",
    "LOG_DIR = PRJ_NAME\n",
    "LOG_PATH = os.path.join( WORKSPACE_DIR,\"logs\",LOG_DIR )"
   ]
  },
  {
   "cell_type": "code",
   "execution_count": 2,
   "metadata": {},
   "outputs": [],
   "source": [
    "#make file if not exist\n",
    "def make_file(path):\n",
    "    if os.path.exists(path):\n",
    "        print(\"Proj :-*\" + path + \"*-  file exist!\")\n",
    "        pass\n",
    "    else:\n",
    "        os.mkdir(path)\n",
    "        print(\"Proj :-*\" + path + \"*-  file making!\")\n",
    "    return True"
   ]
  },
  {
   "cell_type": "code",
   "execution_count": 3,
   "metadata": {},
   "outputs": [],
   "source": [
    "def make_base_file(prj_name,class_name):\n",
    "    if class_name == \"data\":\n",
    "        path = DATA_PATH\n",
    "    elif class_name == \"model\":\n",
    "        path = MODEL_PATH\n",
    "    elif class_name == \"image\":\n",
    "        path = IMAGE_PATH\n",
    "    elif class_name == \"log\":\n",
    "        path = LOG_PATH\n",
    "    else:\n",
    "        print(\"Error: please check class_name! Is one of (data, model, image, log)?\")\n",
    "        return False;\n",
    "    make_file(path)"
   ]
  },
  {
   "cell_type": "code",
   "execution_count": 4,
   "metadata": {},
   "outputs": [],
   "source": [
    "#make train,validation and test files\n",
    "def make_dataset_file():\n",
    "    make_file(TRAIN_DIR)\n",
    "    make_file(VALIDATION_DIR)\n",
    "    make_file(TEST_DIR)"
   ]
  },
  {
   "cell_type": "code",
   "execution_count": 5,
   "metadata": {},
   "outputs": [
    {
     "name": "stdout",
     "output_type": "stream",
     "text": [
      "Proj :-*.\\datasets\\face_recognition*-  file exist!\n",
      "Proj :-*.\\models\\face_recognition*-  file exist!\n",
      "Proj :-*.\\images\\face_recognition*-  file exist!\n",
      "Proj :-*.\\logs\\face_recognition*-  file exist!\n",
      "Proj :-*.\\datasets\\face_recognition\\train*-  file exist!\n",
      "Proj :-*.\\datasets\\face_recognition\\validation*-  file exist!\n",
      "Proj :-*.\\datasets\\face_recognition\\test*-  file exist!\n"
     ]
    }
   ],
   "source": [
    "#make some files\n",
    "make_base_file(PRJ_NAME,\"data\")\n",
    "make_base_file(PRJ_NAME,\"model\")\n",
    "make_base_file(PRJ_NAME,\"image\")\n",
    "make_base_file(PRJ_NAME,\"log\")\n",
    "make_dataset_file()"
   ]
  },
  {
   "cell_type": "code",
   "execution_count": 6,
   "metadata": {},
   "outputs": [
    {
     "name": "stdout",
     "output_type": "stream",
     "text": [
      "Proj :-*.\\datasets\\face_recognition\\train\\jarvis*-  file exist!\n",
      "Proj :-*.\\datasets\\face_recognition\\train\\other*-  file exist!\n",
      "Proj :-*.\\datasets\\face_recognition\\validation\\jarvis*-  file exist!\n",
      "Proj :-*.\\datasets\\face_recognition\\validation\\other*-  file exist!\n",
      "Proj :-*.\\datasets\\face_recognition\\test\\jarvis*-  file exist!\n",
      "Proj :-*.\\datasets\\face_recognition\\test\\other*-  file exist!\n"
     ]
    },
    {
     "data": {
      "text/plain": [
       "True"
      ]
     },
     "execution_count": 6,
     "metadata": {},
     "output_type": "execute_result"
    }
   ],
   "source": [
    "#this is a binary classification，\n",
    "#so every datafile inlcudes two classfiles,jarvis & other\n",
    "train_jarvis_dir = os.path.join( TRAIN_DIR, 'jarvis' )\n",
    "train_other_dir = os.path.join( TRAIN_DIR, 'other' )\n",
    "validation_jarvis_dir = os.path.join( VALIDATION_DIR, 'jarvis' )\n",
    "validation_other_dir = os.path.join( VALIDATION_DIR, 'other' )\n",
    "test_jarvis_dir = os.path.join( TEST_DIR, 'jarvis' )\n",
    "test_other_dir = os.path.join( TEST_DIR, 'other' )\n",
    "\n",
    "make_file(train_jarvis_dir)\n",
    "make_file(train_other_dir)\n",
    "make_file(validation_jarvis_dir)\n",
    "make_file(validation_other_dir)\n",
    "make_file(test_jarvis_dir)\n",
    "make_file(test_other_dir)"
   ]
  },
  {
   "cell_type": "code",
   "execution_count": 7,
   "metadata": {},
   "outputs": [],
   "source": [
    "import cv2\n",
    "#import face_detect file path from cv2\n",
    "#you should change this filepath fit your environment\n",
    "cascade_path = \"C:/Users/jarvis/AppData/Local/conda/conda/envs/tensorflow/Library/etc/haarcascades/haarcascade_frontalface_alt2.xml\"  \n",
    "#in reality saved image will be more than catch_pic_num\n",
    "def CatchFaceFromVideo(window_name, camera_idx, catch_pic_num, path_name):\n",
    "    #new a window,the name is window_name\n",
    "    cv2.namedWindow(window_name)\n",
    "    \n",
    "    #open camera\n",
    "    cap = cv2.VideoCapture(camera_idx)                \n",
    "    \n",
    "    #load detect face classfier\n",
    "    classfier = cv2.CascadeClassifier(cascade_path)\n",
    "    \n",
    "    #set green rectangle to show face\n",
    "    color = (0, 255, 0)\n",
    "    \n",
    "    num = 0    \n",
    "    while cap.isOpened():\n",
    "        #read frame\n",
    "        _, frame = cap.read()\n",
    "        #rgb2gray\n",
    "        grey = cv2.cvtColor(frame, cv2.COLOR_BGR2GRAY)            \n",
    "        \n",
    "        #face detect\n",
    "        faceRects = classfier.detectMultiScale(grey, scaleFactor = 1.2, minNeighbors = 3, minSize = (32, 32))\n",
    "        if len(faceRects) > 0:                                    \n",
    "            for faceRect in faceRects:\n",
    "                x, y, w, h = faceRect                        \n",
    "                if (x >= 11) and (y >= 11):#leave distance between edge and face detected\n",
    "                    #save face\n",
    "                    img_name = '%s/%d.jpg'%(path_name, num)                \n",
    "                    image = frame[y - 10: y + h + 10, x - 10: x + w + 10]\n",
    "                    cv2.imwrite(img_name, image)                                \n",
    "\n",
    "                    num += 1                \n",
    "                    if (num > catch_pic_num):\n",
    "                        break\n",
    "\n",
    "                    cv2.rectangle(frame, (x - 10, y - 10), (x + w + 10, y + h + 10), color, 2)\n",
    "\n",
    "                    #show the number of images had been saved\n",
    "                    font = cv2.FONT_HERSHEY_SIMPLEX\n",
    "                    cv2.putText(frame,'num:%d' % (num),(x + 30, y + 30), font, 1, (255,255,255),4)                \n",
    "                else:\n",
    "                    pass\n",
    "        #display frame & press q-key exit\n",
    "        cv2.imshow(window_name, frame)        \n",
    "        c = cv2.waitKey(10)\n",
    "        if c & 0xFF == ord('q'):\n",
    "            break \n",
    "            \n",
    "    cap.release()\n",
    "    cv2.destroyAllWindows() "
   ]
  },
  {
   "cell_type": "code",
   "execution_count": 8,
   "metadata": {},
   "outputs": [],
   "source": [
    "#move your face to train,validation and test file\n",
    "import os\n",
    "import shutil\n",
    "import random\n",
    "def move_images(number,source,destination):\n",
    "    filelist=os.listdir(DATA_PATH)\n",
    "    for fichier in filelist[:]: \n",
    "        if not(fichier.endswith(\".jpg\")):\n",
    "            filelist.remove(fichier)\n",
    "    image_index = random.sample(filelist,number) \n",
    "    if (number > len(filelist)):\n",
    "        print(\"Error: you should check number of images!\")\n",
    "    else:\n",
    "        for fname in image_index:\n",
    "            src = os.path.join(source, fname)\n",
    "            dst = os.path.join(destination, fname)\n",
    "            shutil.move(src, dst)"
   ]
  },
  {
   "cell_type": "code",
   "execution_count": 9,
   "metadata": {},
   "outputs": [],
   "source": [
    "def delete_images(path):\n",
    "    filelist=os.listdir(path)\n",
    "    for fichier in filelist[:]: \n",
    "        if not(fichier.endswith(\".jpg\")):\n",
    "            filelist.remove(fichier)\n",
    "    for fname in filelist:\n",
    "        file = os.path.join(path, fname)\n",
    "        os.remove(file)"
   ]
  },
  {
   "cell_type": "code",
   "execution_count": 14,
   "metadata": {},
   "outputs": [],
   "source": [
    "#catch jarvis face data to save DATA_PATH\n",
    "#noet：make sure only your face showed in video\n",
    "CatchFaceFromVideo(\"get data\", 1000, DATA_PATH)\n",
    "#split jarvis face data to datafiles\n",
    "move_images(400,DATA_PATH,train_jarvis_dir)\n",
    "move_images(400,DATA_PATH,validation_jarvis_dir)\n",
    "move_images(200,DATA_PATH,test_jarvis_dir)\n",
    "#delete rest data\n",
    "delete_images(DATA_PATH)"
   ]
  },
  {
   "cell_type": "code",
   "execution_count": 20,
   "metadata": {},
   "outputs": [],
   "source": [
    "#catch other face data to save DATA_PATH\n",
    "#noet：make sure only other people showed in video,no your face\n",
    "CatchFaceFromVideo(\"get data\", 0, 100, DATA_PATH)\n",
    "#split other face data to datafiles\n",
    "move_images(400,DATA_PATH,train_other_dir)\n",
    "move_images(400,DATA_PATH,validation_other_dir)\n",
    "move_images(200,DATA_PATH,test_other_dir)\n",
    "#delete rest data\n",
    "delete_images(DATA_PATH)"
   ]
  },
  {
   "cell_type": "code",
   "execution_count": 10,
   "metadata": {},
   "outputs": [
    {
     "name": "stdout",
     "output_type": "stream",
     "text": [
      "total training jarvis images: 389\n",
      "total training other images: 387\n",
      "total validation jarvis images: 396\n",
      "total validation other images: 390\n",
      "total test jarvis images: 196\n",
      "total test other images: 196\n"
     ]
    }
   ],
   "source": [
    "#For more performance,you'd better check datasets\n",
    "#manually delete some data e.g. small,wrong data\n",
    "#show the number of datafiles\n",
    "print('total training jarvis images:', len(os.listdir(train_jarvis_dir)))\n",
    "print('total training other images:', len(os.listdir(train_other_dir)))\n",
    "print('total validation jarvis images:', len(os.listdir(validation_jarvis_dir)))\n",
    "print('total validation other images:', len(os.listdir(validation_other_dir)))\n",
    "print('total test jarvis images:', len(os.listdir(test_jarvis_dir)))\n",
    "print('total test other images:', len(os.listdir(test_other_dir)))"
   ]
  }
 ],
 "metadata": {
  "kernelspec": {
   "display_name": "Python 3",
   "language": "python",
   "name": "python3"
  },
  "language_info": {
   "codemirror_mode": {
    "name": "ipython",
    "version": 3
   },
   "file_extension": ".py",
   "mimetype": "text/x-python",
   "name": "python",
   "nbconvert_exporter": "python",
   "pygments_lexer": "ipython3",
   "version": "3.6.4"
  }
 },
 "nbformat": 4,
 "nbformat_minor": 2
}
